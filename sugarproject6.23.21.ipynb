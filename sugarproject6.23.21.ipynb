{
 "cells": [
  {
   "cell_type": "code",
   "execution_count": 1,
   "id": "f3d920ac",
   "metadata": {},
   "outputs": [],
   "source": [
    "import pandas as pd #importing libraries"
   ]
  },
  {
   "cell_type": "code",
   "execution_count": 2,
   "id": "1014b2d5",
   "metadata": {},
   "outputs": [],
   "source": [
    "import matplotlib"
   ]
  },
  {
   "cell_type": "code",
   "execution_count": 3,
   "id": "49d4aa15",
   "metadata": {},
   "outputs": [],
   "source": [
    "%matplotlib inline"
   ]
  },
  {
   "cell_type": "code",
   "execution_count": 4,
   "id": "ec526d2c",
   "metadata": {},
   "outputs": [],
   "source": [
    "df1 = pd.read_csv(r\"C:\\Users\\sando\\Documents\\sugarproject\\sugar in soda.csv\")#importing csv"
   ]
  },
  {
   "cell_type": "code",
   "execution_count": 5,
   "id": "803b5f53",
   "metadata": {},
   "outputs": [],
   "source": [
    "df2 = pd.read_csv(r\"C:\\Users\\sando\\Documents\\sugarproject\\calories in soda - Sheet1.csv\")"
   ]
  },
  {
   "cell_type": "code",
   "execution_count": 6,
   "id": "ce9aaf6d",
   "metadata": {},
   "outputs": [],
   "source": [
    "df3 = pd.read_csv(r\"C:\\Users\\sando\\Documents\\sugarproject\\sugar in energy drinks.csv\")"
   ]
  },
  {
   "cell_type": "code",
   "execution_count": 7,
   "id": "f21aa31f",
   "metadata": {},
   "outputs": [],
   "source": [
    "df4 = pd.read_csv(r\"C:\\Users\\sando\\Documents\\sugarproject\\calories in energy drinks.csv\")"
   ]
  },
  {
   "cell_type": "code",
   "execution_count": 8,
   "id": "810bf967",
   "metadata": {},
   "outputs": [
    {
     "data": {
      "text/html": [
       "<div>\n",
       "<style scoped>\n",
       "    .dataframe tbody tr th:only-of-type {\n",
       "        vertical-align: middle;\n",
       "    }\n",
       "\n",
       "    .dataframe tbody tr th {\n",
       "        vertical-align: top;\n",
       "    }\n",
       "\n",
       "    .dataframe thead th {\n",
       "        text-align: right;\n",
       "    }\n",
       "</style>\n",
       "<table border=\"1\" class=\"dataframe\">\n",
       "  <thead>\n",
       "    <tr style=\"text-align: right;\">\n",
       "      <th></th>\n",
       "      <th>drink 20oz</th>\n",
       "      <th>sugar amount in g</th>\n",
       "      <th>caffeine in mg</th>\n",
       "      <th>sodium in mg</th>\n",
       "    </tr>\n",
       "  </thead>\n",
       "  <tbody>\n",
       "    <tr>\n",
       "      <th>0</th>\n",
       "      <td>coca-cola</td>\n",
       "      <td>65</td>\n",
       "      <td>57</td>\n",
       "      <td>75</td>\n",
       "    </tr>\n",
       "    <tr>\n",
       "      <th>1</th>\n",
       "      <td>dr pepper</td>\n",
       "      <td>64</td>\n",
       "      <td>68</td>\n",
       "      <td>100</td>\n",
       "    </tr>\n",
       "    <tr>\n",
       "      <th>2</th>\n",
       "      <td>pepsi</td>\n",
       "      <td>69</td>\n",
       "      <td>63</td>\n",
       "      <td>55</td>\n",
       "    </tr>\n",
       "    <tr>\n",
       "      <th>3</th>\n",
       "      <td>sprite</td>\n",
       "      <td>64</td>\n",
       "      <td>0</td>\n",
       "      <td>110</td>\n",
       "    </tr>\n",
       "    <tr>\n",
       "      <th>4</th>\n",
       "      <td>mtn dew</td>\n",
       "      <td>77</td>\n",
       "      <td>91</td>\n",
       "      <td>105</td>\n",
       "    </tr>\n",
       "    <tr>\n",
       "      <th>5</th>\n",
       "      <td>fanta</td>\n",
       "      <td>73</td>\n",
       "      <td>0</td>\n",
       "      <td>90</td>\n",
       "    </tr>\n",
       "    <tr>\n",
       "      <th>6</th>\n",
       "      <td>a&amp;w root beer</td>\n",
       "      <td>72</td>\n",
       "      <td>0</td>\n",
       "      <td>135</td>\n",
       "    </tr>\n",
       "    <tr>\n",
       "      <th>7</th>\n",
       "      <td>canada dry</td>\n",
       "      <td>59</td>\n",
       "      <td>0</td>\n",
       "      <td>80</td>\n",
       "    </tr>\n",
       "    <tr>\n",
       "      <th>8</th>\n",
       "      <td>orange crush</td>\n",
       "      <td>71</td>\n",
       "      <td>0</td>\n",
       "      <td>120</td>\n",
       "    </tr>\n",
       "  </tbody>\n",
       "</table>\n",
       "</div>"
      ],
      "text/plain": [
       "       drink 20oz  sugar amount in g  caffeine in mg  sodium in mg\n",
       "0       coca-cola                 65              57            75\n",
       "1      dr pepper                  64              68           100\n",
       "2           pepsi                 69              63            55\n",
       "3          sprite                 64               0           110\n",
       "4         mtn dew                 77              91           105\n",
       "5           fanta                 73               0            90\n",
       "6  a&w root beer                  72               0           135\n",
       "7      canada dry                 59               0            80\n",
       "8    orange crush                 71               0           120"
      ]
     },
     "execution_count": 8,
     "metadata": {},
     "output_type": "execute_result"
    }
   ],
   "source": [
    "df1"
   ]
  },
  {
   "cell_type": "code",
   "execution_count": 9,
   "id": "4ff935f2",
   "metadata": {},
   "outputs": [
    {
     "data": {
      "text/html": [
       "<div>\n",
       "<style scoped>\n",
       "    .dataframe tbody tr th:only-of-type {\n",
       "        vertical-align: middle;\n",
       "    }\n",
       "\n",
       "    .dataframe tbody tr th {\n",
       "        vertical-align: top;\n",
       "    }\n",
       "\n",
       "    .dataframe thead th {\n",
       "        text-align: right;\n",
       "    }\n",
       "</style>\n",
       "<table border=\"1\" class=\"dataframe\">\n",
       "  <thead>\n",
       "    <tr style=\"text-align: right;\">\n",
       "      <th></th>\n",
       "      <th>drink 20oz</th>\n",
       "      <th>calories</th>\n",
       "    </tr>\n",
       "  </thead>\n",
       "  <tbody>\n",
       "    <tr>\n",
       "      <th>0</th>\n",
       "      <td>coca-cola</td>\n",
       "      <td>240</td>\n",
       "    </tr>\n",
       "    <tr>\n",
       "      <th>1</th>\n",
       "      <td>dr pepper</td>\n",
       "      <td>250</td>\n",
       "    </tr>\n",
       "    <tr>\n",
       "      <th>2</th>\n",
       "      <td>pepsi</td>\n",
       "      <td>250</td>\n",
       "    </tr>\n",
       "    <tr>\n",
       "      <th>3</th>\n",
       "      <td>sprite</td>\n",
       "      <td>230</td>\n",
       "    </tr>\n",
       "    <tr>\n",
       "      <th>4</th>\n",
       "      <td>mtn dew</td>\n",
       "      <td>290</td>\n",
       "    </tr>\n",
       "    <tr>\n",
       "      <th>5</th>\n",
       "      <td>fanta</td>\n",
       "      <td>270</td>\n",
       "    </tr>\n",
       "    <tr>\n",
       "      <th>6</th>\n",
       "      <td>a&amp;w root beer</td>\n",
       "      <td>270</td>\n",
       "    </tr>\n",
       "    <tr>\n",
       "      <th>7</th>\n",
       "      <td>canada dry</td>\n",
       "      <td>230</td>\n",
       "    </tr>\n",
       "    <tr>\n",
       "      <th>8</th>\n",
       "      <td>orange crush</td>\n",
       "      <td>270</td>\n",
       "    </tr>\n",
       "  </tbody>\n",
       "</table>\n",
       "</div>"
      ],
      "text/plain": [
       "       drink 20oz  calories\n",
       "0       coca-cola       240\n",
       "1      dr pepper        250\n",
       "2           pepsi       250\n",
       "3          sprite       230\n",
       "4         mtn dew       290\n",
       "5           fanta       270\n",
       "6  a&w root beer        270\n",
       "7      canada dry       230\n",
       "8    orange crush       270"
      ]
     },
     "execution_count": 9,
     "metadata": {},
     "output_type": "execute_result"
    }
   ],
   "source": [
    "df2"
   ]
  },
  {
   "cell_type": "code",
   "execution_count": 10,
   "id": "92dc2989",
   "metadata": {},
   "outputs": [],
   "source": [
    "soda_nf = pd.merge(df2, df1)#merges the calories columns with df1 table"
   ]
  },
  {
   "cell_type": "code",
   "execution_count": 11,
   "id": "45019ab2",
   "metadata": {},
   "outputs": [
    {
     "data": {
      "text/html": [
       "<div>\n",
       "<style scoped>\n",
       "    .dataframe tbody tr th:only-of-type {\n",
       "        vertical-align: middle;\n",
       "    }\n",
       "\n",
       "    .dataframe tbody tr th {\n",
       "        vertical-align: top;\n",
       "    }\n",
       "\n",
       "    .dataframe thead th {\n",
       "        text-align: right;\n",
       "    }\n",
       "</style>\n",
       "<table border=\"1\" class=\"dataframe\">\n",
       "  <thead>\n",
       "    <tr style=\"text-align: right;\">\n",
       "      <th></th>\n",
       "      <th>drink 20oz</th>\n",
       "      <th>calories</th>\n",
       "      <th>sugar amount in g</th>\n",
       "      <th>caffeine in mg</th>\n",
       "      <th>sodium in mg</th>\n",
       "    </tr>\n",
       "  </thead>\n",
       "  <tbody>\n",
       "    <tr>\n",
       "      <th>0</th>\n",
       "      <td>coca-cola</td>\n",
       "      <td>240</td>\n",
       "      <td>65</td>\n",
       "      <td>57</td>\n",
       "      <td>75</td>\n",
       "    </tr>\n",
       "    <tr>\n",
       "      <th>1</th>\n",
       "      <td>dr pepper</td>\n",
       "      <td>250</td>\n",
       "      <td>64</td>\n",
       "      <td>68</td>\n",
       "      <td>100</td>\n",
       "    </tr>\n",
       "    <tr>\n",
       "      <th>2</th>\n",
       "      <td>pepsi</td>\n",
       "      <td>250</td>\n",
       "      <td>69</td>\n",
       "      <td>63</td>\n",
       "      <td>55</td>\n",
       "    </tr>\n",
       "    <tr>\n",
       "      <th>3</th>\n",
       "      <td>sprite</td>\n",
       "      <td>230</td>\n",
       "      <td>64</td>\n",
       "      <td>0</td>\n",
       "      <td>110</td>\n",
       "    </tr>\n",
       "    <tr>\n",
       "      <th>4</th>\n",
       "      <td>mtn dew</td>\n",
       "      <td>290</td>\n",
       "      <td>77</td>\n",
       "      <td>91</td>\n",
       "      <td>105</td>\n",
       "    </tr>\n",
       "    <tr>\n",
       "      <th>5</th>\n",
       "      <td>fanta</td>\n",
       "      <td>270</td>\n",
       "      <td>73</td>\n",
       "      <td>0</td>\n",
       "      <td>90</td>\n",
       "    </tr>\n",
       "    <tr>\n",
       "      <th>6</th>\n",
       "      <td>a&amp;w root beer</td>\n",
       "      <td>270</td>\n",
       "      <td>72</td>\n",
       "      <td>0</td>\n",
       "      <td>135</td>\n",
       "    </tr>\n",
       "    <tr>\n",
       "      <th>7</th>\n",
       "      <td>canada dry</td>\n",
       "      <td>230</td>\n",
       "      <td>59</td>\n",
       "      <td>0</td>\n",
       "      <td>80</td>\n",
       "    </tr>\n",
       "    <tr>\n",
       "      <th>8</th>\n",
       "      <td>orange crush</td>\n",
       "      <td>270</td>\n",
       "      <td>71</td>\n",
       "      <td>0</td>\n",
       "      <td>120</td>\n",
       "    </tr>\n",
       "  </tbody>\n",
       "</table>\n",
       "</div>"
      ],
      "text/plain": [
       "       drink 20oz  calories  sugar amount in g  caffeine in mg  sodium in mg\n",
       "0       coca-cola       240                 65              57            75\n",
       "1      dr pepper        250                 64              68           100\n",
       "2           pepsi       250                 69              63            55\n",
       "3          sprite       230                 64               0           110\n",
       "4         mtn dew       290                 77              91           105\n",
       "5           fanta       270                 73               0            90\n",
       "6  a&w root beer        270                 72               0           135\n",
       "7      canada dry       230                 59               0            80\n",
       "8    orange crush       270                 71               0           120"
      ]
     },
     "execution_count": 11,
     "metadata": {},
     "output_type": "execute_result"
    }
   ],
   "source": [
    "soda_nf #displays my new table called \"\""
   ]
  },
  {
   "cell_type": "code",
   "execution_count": 12,
   "id": "54781242",
   "metadata": {},
   "outputs": [
    {
     "data": {
      "text/plain": [
       "<AxesSubplot:xlabel='drink 20oz'>"
      ]
     },
     "execution_count": 12,
     "metadata": {},
     "output_type": "execute_result"
    },
    {
     "data": {
      "image/png": "[encoded data removed]",
      "text/plain": [
       "<Figure size 432x288 with 1 Axes>"
      ]
     },
     "metadata": {
      "needs_background": "light"
     },
     "output_type": "display_data"
    }
   ],
   "source": [
    "soda_nf.plot.bar(x='drink 20oz', y='sugar amount in g')#Now, lets compare the sugar content"
   ]
  },
  {
   "cell_type": "code",
   "execution_count": 13,
   "id": "725675c8",
   "metadata": {},
   "outputs": [],
   "source": [
    "energy_nf = pd.merge(df3, df4)#merging the energy drinks"
   ]
  },
  {
   "cell_type": "code",
   "execution_count": 14,
   "id": "9b6561b3",
   "metadata": {},
   "outputs": [
    {
     "data": {
      "text/html": [
       "<div>\n",
       "<style scoped>\n",
       "    .dataframe tbody tr th:only-of-type {\n",
       "        vertical-align: middle;\n",
       "    }\n",
       "\n",
       "    .dataframe tbody tr th {\n",
       "        vertical-align: top;\n",
       "    }\n",
       "\n",
       "    .dataframe thead th {\n",
       "        text-align: right;\n",
       "    }\n",
       "</style>\n",
       "<table border=\"1\" class=\"dataframe\">\n",
       "  <thead>\n",
       "    <tr style=\"text-align: right;\">\n",
       "      <th></th>\n",
       "      <th>drink 16oz</th>\n",
       "      <th>sugar amount in g</th>\n",
       "      <th>caffeine in mg</th>\n",
       "      <th>sodium in mg</th>\n",
       "      <th>calories</th>\n",
       "    </tr>\n",
       "  </thead>\n",
       "  <tbody>\n",
       "    <tr>\n",
       "      <th>0</th>\n",
       "      <td>monster energy</td>\n",
       "      <td>54</td>\n",
       "      <td>160</td>\n",
       "      <td>370</td>\n",
       "      <td>230</td>\n",
       "    </tr>\n",
       "    <tr>\n",
       "      <th>1</th>\n",
       "      <td>red bull</td>\n",
       "      <td>51</td>\n",
       "      <td>151</td>\n",
       "      <td>190</td>\n",
       "      <td>210</td>\n",
       "    </tr>\n",
       "    <tr>\n",
       "      <th>2</th>\n",
       "      <td>mtn dew kickstart grape</td>\n",
       "      <td>20</td>\n",
       "      <td>90</td>\n",
       "      <td>170</td>\n",
       "      <td>80</td>\n",
       "    </tr>\n",
       "    <tr>\n",
       "      <th>3</th>\n",
       "      <td>rockstar original</td>\n",
       "      <td>63</td>\n",
       "      <td>160</td>\n",
       "      <td>70</td>\n",
       "      <td>250</td>\n",
       "    </tr>\n",
       "    <tr>\n",
       "      <th>4</th>\n",
       "      <td>bang blue razz</td>\n",
       "      <td>0</td>\n",
       "      <td>300</td>\n",
       "      <td>40</td>\n",
       "      <td>0</td>\n",
       "    </tr>\n",
       "    <tr>\n",
       "      <th>5</th>\n",
       "      <td>full throttle</td>\n",
       "      <td>58</td>\n",
       "      <td>160</td>\n",
       "      <td>160</td>\n",
       "      <td>220</td>\n",
       "    </tr>\n",
       "    <tr>\n",
       "      <th>6</th>\n",
       "      <td>vuka renew mango peach</td>\n",
       "      <td>44</td>\n",
       "      <td>160</td>\n",
       "      <td>0</td>\n",
       "      <td>180</td>\n",
       "    </tr>\n",
       "  </tbody>\n",
       "</table>\n",
       "</div>"
      ],
      "text/plain": [
       "                drink 16oz  sugar amount in g  caffeine in mg  sodium in mg  \\\n",
       "0           monster energy                 54             160           370   \n",
       "1                 red bull                 51             151           190   \n",
       "2  mtn dew kickstart grape                 20              90           170   \n",
       "3        rockstar original                 63             160            70   \n",
       "4           bang blue razz                  0             300            40   \n",
       "5            full throttle                 58             160           160   \n",
       "6   vuka renew mango peach                 44             160             0   \n",
       "\n",
       "   calories  \n",
       "0       230  \n",
       "1       210  \n",
       "2        80  \n",
       "3       250  \n",
       "4         0  \n",
       "5       220  \n",
       "6       180  "
      ]
     },
     "execution_count": 14,
     "metadata": {},
     "output_type": "execute_result"
    }
   ],
   "source": [
    "energy_nf"
   ]
  },
  {
   "cell_type": "code",
   "execution_count": null,
   "id": "37ec233f",
   "metadata": {},
   "outputs": [],
   "source": []
  }
 ],
 "metadata": {
  "kernelspec": {
   "display_name": "Python 3",
   "language": "python",
   "name": "python3"
  },
  "language_info": {
   "codemirror_mode": {
    "name": "ipython",
    "version": 3
   },
   "file_extension": ".py",
   "mimetype": "text/x-python",
   "name": "python",
   "nbconvert_exporter": "python",
   "pygments_lexer": "ipython3",
   "version": "3.8.8"
  }
 },
 "nbformat": 4,
 "nbformat_minor": 5
}
