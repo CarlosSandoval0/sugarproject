{
 "cells": [
  {
   "cell_type": "markdown",
   "id": "63b9a89a",
   "metadata": {},
   "source": [
    "This notebook contains two chapters, chapter one imports CSV's, merges the data, and ends in a display of bar plots. \n",
    "Chapter two, calls an API, cleans the data, concluding with a comparison."
   ]
  },
  {
   "cell_type": "code",
   "execution_count": 1,
   "id": "f3d920ac",
   "metadata": {},
   "outputs": [],
   "source": [
    "#importing libraries\n",
    "import pandas as pd"
   ]
  },
  {
   "cell_type": "code",
   "execution_count": 2,
   "id": "1014b2d5",
   "metadata": {},
   "outputs": [],
   "source": [
    "import matplotlib"
   ]
  },
  {
   "cell_type": "code",
   "execution_count": 3,
   "id": "49d4aa15",
   "metadata": {},
   "outputs": [],
   "source": [
    "%matplotlib inline"
   ]
  },
  {
   "cell_type": "code",
   "execution_count": 4,
   "id": "98ddd89f",
   "metadata": {},
   "outputs": [],
   "source": [
    "#from matplotlib import pyplot as plt"
   ]
  },
  {
   "cell_type": "code",
   "execution_count": 5,
   "id": "ad55a97f",
   "metadata": {},
   "outputs": [],
   "source": [
    "import numpy as np"
   ]
  },
  {
   "cell_type": "code",
   "execution_count": 6,
   "id": "ec526d2c",
   "metadata": {},
   "outputs": [],
   "source": [
    "#importing csv\n",
    "df1 = pd.read_csv(r\"https://raw.githubusercontent.com/CarlosSandoval0/sugarproject/main/calories%20in%20energy%20drinks.csv\")"
   ]
  },
  {
   "cell_type": "code",
   "execution_count": 7,
   "id": "803b5f53",
   "metadata": {},
   "outputs": [],
   "source": [
    "df2 = pd.read_csv(r\"https://raw.githubusercontent.com/CarlosSandoval0/sugarproject/main/calories%20in%20soda%20-%20Sheet1.csv\")"
   ]
  },
  {
   "cell_type": "code",
   "execution_count": 8,
   "id": "ce9aaf6d",
   "metadata": {},
   "outputs": [],
   "source": [
    "df3 = pd.read_csv(r\"https://raw.githubusercontent.com/CarlosSandoval0/sugarproject/main/sugar%20in%20energy%20drinks.csv\")"
   ]
  },
  {
   "cell_type": "code",
   "execution_count": 9,
   "id": "f21aa31f",
   "metadata": {},
   "outputs": [],
   "source": [
    "df4 = pd.read_csv(r\"https://raw.githubusercontent.com/CarlosSandoval0/sugarproject/main/calories%20in%20energy%20drinks.csv\")"
   ]
  },
  {
   "cell_type": "code",
   "execution_count": null,
   "id": "d942d169",
   "metadata": {},
   "outputs": [],
   "source": [
    "#replace to run locally\n",
    "#\"C:\\Users\\sando\\Documents\\sugarproject\\sugar in soda.csv\n",
    "#\"C:\\Users\\sando\\Documents\\sugarproject\\calories in soda - Sheet1.csv\n",
    "#\"C:\\Users\\sando\\Documents\\sugarproject\\sugar in energy drinks.csv\n",
    "#\"C:\\Users\\sando\\Documents\\sugarproject\\calories in energy drinks.csv\")"
   ]
  },
  {
   "cell_type": "markdown",
   "id": "cafdafd7",
   "metadata": {},
   "source": [
    "## Sodas"
   ]
  },
  {
   "cell_type": "code",
   "execution_count": 10,
   "id": "810bf967",
   "metadata": {},
   "outputs": [
    {
     "data": {
      "text/html": [
       "<div>\n",
       "<style scoped>\n",
       "    .dataframe tbody tr th:only-of-type {\n",
       "        vertical-align: middle;\n",
       "    }\n",
       "\n",
       "    .dataframe tbody tr th {\n",
       "        vertical-align: top;\n",
       "    }\n",
       "\n",
       "    .dataframe thead th {\n",
       "        text-align: right;\n",
       "    }\n",
       "</style>\n",
       "<table border=\"1\" class=\"dataframe\">\n",
       "  <thead>\n",
       "    <tr style=\"text-align: right;\">\n",
       "      <th></th>\n",
       "      <th>drink 20oz</th>\n",
       "      <th>sugar amount in g</th>\n",
       "      <th>caffeine in mg</th>\n",
       "      <th>sodium in mg</th>\n",
       "    </tr>\n",
       "  </thead>\n",
       "  <tbody>\n",
       "    <tr>\n",
       "      <th>0</th>\n",
       "      <td>coca-cola</td>\n",
       "      <td>65</td>\n",
       "      <td>57</td>\n",
       "      <td>75</td>\n",
       "    </tr>\n",
       "    <tr>\n",
       "      <th>1</th>\n",
       "      <td>dr pepper</td>\n",
       "      <td>64</td>\n",
       "      <td>68</td>\n",
       "      <td>100</td>\n",
       "    </tr>\n",
       "    <tr>\n",
       "      <th>2</th>\n",
       "      <td>pepsi</td>\n",
       "      <td>69</td>\n",
       "      <td>63</td>\n",
       "      <td>55</td>\n",
       "    </tr>\n",
       "    <tr>\n",
       "      <th>3</th>\n",
       "      <td>sprite</td>\n",
       "      <td>64</td>\n",
       "      <td>0</td>\n",
       "      <td>110</td>\n",
       "    </tr>\n",
       "    <tr>\n",
       "      <th>4</th>\n",
       "      <td>mtn dew</td>\n",
       "      <td>77</td>\n",
       "      <td>91</td>\n",
       "      <td>105</td>\n",
       "    </tr>\n",
       "    <tr>\n",
       "      <th>5</th>\n",
       "      <td>fanta</td>\n",
       "      <td>73</td>\n",
       "      <td>0</td>\n",
       "      <td>90</td>\n",
       "    </tr>\n",
       "    <tr>\n",
       "      <th>6</th>\n",
       "      <td>a&amp;w root beer</td>\n",
       "      <td>72</td>\n",
       "      <td>0</td>\n",
       "      <td>135</td>\n",
       "    </tr>\n",
       "    <tr>\n",
       "      <th>7</th>\n",
       "      <td>canada dry</td>\n",
       "      <td>59</td>\n",
       "      <td>0</td>\n",
       "      <td>80</td>\n",
       "    </tr>\n",
       "    <tr>\n",
       "      <th>8</th>\n",
       "      <td>orange crush</td>\n",
       "      <td>71</td>\n",
       "      <td>0</td>\n",
       "      <td>120</td>\n",
       "    </tr>\n",
       "  </tbody>\n",
       "</table>\n",
       "</div>"
      ],
      "text/plain": [
       "       drink 20oz  sugar amount in g  caffeine in mg  sodium in mg\n",
       "0       coca-cola                 65              57            75\n",
       "1      dr pepper                  64              68           100\n",
       "2           pepsi                 69              63            55\n",
       "3          sprite                 64               0           110\n",
       "4         mtn dew                 77              91           105\n",
       "5           fanta                 73               0            90\n",
       "6  a&w root beer                  72               0           135\n",
       "7      canada dry                 59               0            80\n",
       "8    orange crush                 71               0           120"
      ]
     },
     "execution_count": 10,
     "metadata": {},
     "output_type": "execute_result"
    }
   ],
   "source": [
    "df1"
   ]
  },
  {
   "cell_type": "code",
   "execution_count": 11,
   "id": "4ff935f2",
   "metadata": {},
   "outputs": [
    {
     "data": {
      "text/html": [
       "<div>\n",
       "<style scoped>\n",
       "    .dataframe tbody tr th:only-of-type {\n",
       "        vertical-align: middle;\n",
       "    }\n",
       "\n",
       "    .dataframe tbody tr th {\n",
       "        vertical-align: top;\n",
       "    }\n",
       "\n",
       "    .dataframe thead th {\n",
       "        text-align: right;\n",
       "    }\n",
       "</style>\n",
       "<table border=\"1\" class=\"dataframe\">\n",
       "  <thead>\n",
       "    <tr style=\"text-align: right;\">\n",
       "      <th></th>\n",
       "      <th>drink 20oz</th>\n",
       "      <th>calories</th>\n",
       "    </tr>\n",
       "  </thead>\n",
       "  <tbody>\n",
       "    <tr>\n",
       "      <th>0</th>\n",
       "      <td>coca-cola</td>\n",
       "      <td>240</td>\n",
       "    </tr>\n",
       "    <tr>\n",
       "      <th>1</th>\n",
       "      <td>dr pepper</td>\n",
       "      <td>250</td>\n",
       "    </tr>\n",
       "    <tr>\n",
       "      <th>2</th>\n",
       "      <td>pepsi</td>\n",
       "      <td>250</td>\n",
       "    </tr>\n",
       "    <tr>\n",
       "      <th>3</th>\n",
       "      <td>sprite</td>\n",
       "      <td>230</td>\n",
       "    </tr>\n",
       "    <tr>\n",
       "      <th>4</th>\n",
       "      <td>mtn dew</td>\n",
       "      <td>290</td>\n",
       "    </tr>\n",
       "    <tr>\n",
       "      <th>5</th>\n",
       "      <td>fanta</td>\n",
       "      <td>270</td>\n",
       "    </tr>\n",
       "    <tr>\n",
       "      <th>6</th>\n",
       "      <td>a&amp;w root beer</td>\n",
       "      <td>270</td>\n",
       "    </tr>\n",
       "    <tr>\n",
       "      <th>7</th>\n",
       "      <td>canada dry</td>\n",
       "      <td>230</td>\n",
       "    </tr>\n",
       "    <tr>\n",
       "      <th>8</th>\n",
       "      <td>orange crush</td>\n",
       "      <td>270</td>\n",
       "    </tr>\n",
       "  </tbody>\n",
       "</table>\n",
       "</div>"
      ],
      "text/plain": [
       "       drink 20oz  calories\n",
       "0       coca-cola       240\n",
       "1      dr pepper        250\n",
       "2           pepsi       250\n",
       "3          sprite       230\n",
       "4         mtn dew       290\n",
       "5           fanta       270\n",
       "6  a&w root beer        270\n",
       "7      canada dry       230\n",
       "8    orange crush       270"
      ]
     },
     "execution_count": 11,
     "metadata": {},
     "output_type": "execute_result"
    }
   ],
   "source": [
    "df2"
   ]
  },
  {
   "cell_type": "code",
   "execution_count": 12,
   "id": "92dc2989",
   "metadata": {},
   "outputs": [],
   "source": [
    "#merges the calories columns with df1 table\n",
    "soda_nf = pd.merge(df2, df1)"
   ]
  },
  {
   "cell_type": "code",
   "execution_count": 13,
   "id": "45019ab2",
   "metadata": {},
   "outputs": [
    {
     "data": {
      "text/html": [
       "<div>\n",
       "<style scoped>\n",
       "    .dataframe tbody tr th:only-of-type {\n",
       "        vertical-align: middle;\n",
       "    }\n",
       "\n",
       "    .dataframe tbody tr th {\n",
       "        vertical-align: top;\n",
       "    }\n",
       "\n",
       "    .dataframe thead th {\n",
       "        text-align: right;\n",
       "    }\n",
       "</style>\n",
       "<table border=\"1\" class=\"dataframe\">\n",
       "  <thead>\n",
       "    <tr style=\"text-align: right;\">\n",
       "      <th></th>\n",
       "      <th>drink 20oz</th>\n",
       "      <th>calories</th>\n",
       "      <th>sugar amount in g</th>\n",
       "      <th>caffeine in mg</th>\n",
       "      <th>sodium in mg</th>\n",
       "    </tr>\n",
       "  </thead>\n",
       "  <tbody>\n",
       "    <tr>\n",
       "      <th>0</th>\n",
       "      <td>coca-cola</td>\n",
       "      <td>240</td>\n",
       "      <td>65</td>\n",
       "      <td>57</td>\n",
       "      <td>75</td>\n",
       "    </tr>\n",
       "    <tr>\n",
       "      <th>1</th>\n",
       "      <td>dr pepper</td>\n",
       "      <td>250</td>\n",
       "      <td>64</td>\n",
       "      <td>68</td>\n",
       "      <td>100</td>\n",
       "    </tr>\n",
       "    <tr>\n",
       "      <th>2</th>\n",
       "      <td>pepsi</td>\n",
       "      <td>250</td>\n",
       "      <td>69</td>\n",
       "      <td>63</td>\n",
       "      <td>55</td>\n",
       "    </tr>\n",
       "    <tr>\n",
       "      <th>3</th>\n",
       "      <td>sprite</td>\n",
       "      <td>230</td>\n",
       "      <td>64</td>\n",
       "      <td>0</td>\n",
       "      <td>110</td>\n",
       "    </tr>\n",
       "    <tr>\n",
       "      <th>4</th>\n",
       "      <td>mtn dew</td>\n",
       "      <td>290</td>\n",
       "      <td>77</td>\n",
       "      <td>91</td>\n",
       "      <td>105</td>\n",
       "    </tr>\n",
       "    <tr>\n",
       "      <th>5</th>\n",
       "      <td>fanta</td>\n",
       "      <td>270</td>\n",
       "      <td>73</td>\n",
       "      <td>0</td>\n",
       "      <td>90</td>\n",
       "    </tr>\n",
       "    <tr>\n",
       "      <th>6</th>\n",
       "      <td>a&amp;w root beer</td>\n",
       "      <td>270</td>\n",
       "      <td>72</td>\n",
       "      <td>0</td>\n",
       "      <td>135</td>\n",
       "    </tr>\n",
       "    <tr>\n",
       "      <th>7</th>\n",
       "      <td>canada dry</td>\n",
       "      <td>230</td>\n",
       "      <td>59</td>\n",
       "      <td>0</td>\n",
       "      <td>80</td>\n",
       "    </tr>\n",
       "    <tr>\n",
       "      <th>8</th>\n",
       "      <td>orange crush</td>\n",
       "      <td>270</td>\n",
       "      <td>71</td>\n",
       "      <td>0</td>\n",
       "      <td>120</td>\n",
       "    </tr>\n",
       "  </tbody>\n",
       "</table>\n",
       "</div>"
      ],
      "text/plain": [
       "       drink 20oz  calories  sugar amount in g  caffeine in mg  sodium in mg\n",
       "0       coca-cola       240                 65              57            75\n",
       "1      dr pepper        250                 64              68           100\n",
       "2           pepsi       250                 69              63            55\n",
       "3          sprite       230                 64               0           110\n",
       "4         mtn dew       290                 77              91           105\n",
       "5           fanta       270                 73               0            90\n",
       "6  a&w root beer        270                 72               0           135\n",
       "7      canada dry       230                 59               0            80\n",
       "8    orange crush       270                 71               0           120"
      ]
     },
     "execution_count": 13,
     "metadata": {},
     "output_type": "execute_result"
    }
   ],
   "source": [
    "#displays my new table called -->\n",
    "soda_nf"
   ]
  },
  {
   "cell_type": "code",
   "execution_count": 14,
   "id": "54781242",
   "metadata": {},
   "outputs": [
    {
     "data": {
      "text/plain": [
       "(0.0, 80.0)"
      ]
     },
     "execution_count": 14,
     "metadata": {},
     "output_type": "execute_result"
    },
    {
     "data": {
      "image/png": "[encoded data removed]",
      "text/plain": [
       "<Figure size 432x288 with 1 Axes>"
      ]
     },
     "metadata": {
      "needs_background": "light"
     },
     "output_type": "display_data"
    }
   ],
   "source": [
    "#Now, lets compare the sugar content\n",
    "soda_nf.plot.bar(x='drink 20oz', y='sugar amount in g')\n",
    "\n",
    "#gca = Get Current Axis\n",
    "ax = matplotlib.pyplot.gca()\n",
    "\n",
    "#limits the y axis to 80\n",
    "ax.set_ylim([0,80])"
   ]
  },
  {
   "cell_type": "code",
   "execution_count": 15,
   "id": "7542ddea",
   "metadata": {
    "scrolled": false
   },
   "outputs": [
    {
     "data": {
      "text/plain": [
       "(0.0, 310.0)"
      ]
     },
     "execution_count": 15,
     "metadata": {},
     "output_type": "execute_result"
    },
    {
     "data": {
      "image/png": "[encoded data removed]",
      "text/plain": [
       "<Figure size 432x288 with 1 Axes>"
      ]
     },
     "metadata": {
      "needs_background": "light"
     },
     "output_type": "display_data"
    }
   ],
   "source": [
    "#What about the caffeine?\n",
    "soda_nf.plot.bar(x='drink 20oz', y='caffeine in mg')\n",
    "\n",
    "ax = matplotlib.pyplot.gca()\n",
    "\n",
    "#setting the caffeine axis to the same limit will make it easier to compare \n",
    "ax.set_ylim([0,310])"
   ]
  },
  {
   "cell_type": "markdown",
   "id": "08500ef1",
   "metadata": {},
   "source": [
    "## Energy Drinks"
   ]
  },
  {
   "cell_type": "code",
   "execution_count": 16,
   "id": "725675c8",
   "metadata": {},
   "outputs": [],
   "source": [
    "#merging the energy drinks\n",
    "energy_nf = pd.merge(df3, df4)"
   ]
  },
  {
   "cell_type": "code",
   "execution_count": 17,
   "id": "9b6561b3",
   "metadata": {},
   "outputs": [
    {
     "data": {
      "text/html": [
       "<div>\n",
       "<style scoped>\n",
       "    .dataframe tbody tr th:only-of-type {\n",
       "        vertical-align: middle;\n",
       "    }\n",
       "\n",
       "    .dataframe tbody tr th {\n",
       "        vertical-align: top;\n",
       "    }\n",
       "\n",
       "    .dataframe thead th {\n",
       "        text-align: right;\n",
       "    }\n",
       "</style>\n",
       "<table border=\"1\" class=\"dataframe\">\n",
       "  <thead>\n",
       "    <tr style=\"text-align: right;\">\n",
       "      <th></th>\n",
       "      <th>drink 16oz</th>\n",
       "      <th>sugar amount in g</th>\n",
       "      <th>caffeine in mg</th>\n",
       "      <th>sodium in mg</th>\n",
       "      <th>calories</th>\n",
       "    </tr>\n",
       "  </thead>\n",
       "  <tbody>\n",
       "    <tr>\n",
       "      <th>0</th>\n",
       "      <td>monster energy</td>\n",
       "      <td>54</td>\n",
       "      <td>160</td>\n",
       "      <td>370</td>\n",
       "      <td>230</td>\n",
       "    </tr>\n",
       "    <tr>\n",
       "      <th>1</th>\n",
       "      <td>red bull</td>\n",
       "      <td>51</td>\n",
       "      <td>151</td>\n",
       "      <td>190</td>\n",
       "      <td>210</td>\n",
       "    </tr>\n",
       "    <tr>\n",
       "      <th>2</th>\n",
       "      <td>mtn dew kickstart grape</td>\n",
       "      <td>20</td>\n",
       "      <td>90</td>\n",
       "      <td>170</td>\n",
       "      <td>80</td>\n",
       "    </tr>\n",
       "    <tr>\n",
       "      <th>3</th>\n",
       "      <td>rockstar original</td>\n",
       "      <td>63</td>\n",
       "      <td>160</td>\n",
       "      <td>70</td>\n",
       "      <td>250</td>\n",
       "    </tr>\n",
       "    <tr>\n",
       "      <th>4</th>\n",
       "      <td>bang blue razz</td>\n",
       "      <td>0</td>\n",
       "      <td>300</td>\n",
       "      <td>40</td>\n",
       "      <td>0</td>\n",
       "    </tr>\n",
       "    <tr>\n",
       "      <th>5</th>\n",
       "      <td>full throttle</td>\n",
       "      <td>58</td>\n",
       "      <td>160</td>\n",
       "      <td>160</td>\n",
       "      <td>220</td>\n",
       "    </tr>\n",
       "    <tr>\n",
       "      <th>6</th>\n",
       "      <td>vuka renew mango peach</td>\n",
       "      <td>44</td>\n",
       "      <td>160</td>\n",
       "      <td>0</td>\n",
       "      <td>180</td>\n",
       "    </tr>\n",
       "  </tbody>\n",
       "</table>\n",
       "</div>"
      ],
      "text/plain": [
       "                drink 16oz  sugar amount in g  caffeine in mg  sodium in mg  \\\n",
       "0           monster energy                 54             160           370   \n",
       "1                 red bull                 51             151           190   \n",
       "2  mtn dew kickstart grape                 20              90           170   \n",
       "3        rockstar original                 63             160            70   \n",
       "4           bang blue razz                  0             300            40   \n",
       "5            full throttle                 58             160           160   \n",
       "6   vuka renew mango peach                 44             160             0   \n",
       "\n",
       "   calories  \n",
       "0       230  \n",
       "1       210  \n",
       "2        80  \n",
       "3       250  \n",
       "4         0  \n",
       "5       220  \n",
       "6       180  "
      ]
     },
     "execution_count": 17,
     "metadata": {},
     "output_type": "execute_result"
    }
   ],
   "source": [
    "energy_nf"
   ]
  },
  {
   "cell_type": "code",
   "execution_count": 18,
   "id": "37ec233f",
   "metadata": {},
   "outputs": [
    {
     "data": {
      "text/plain": [
       "(0.0, 80.0)"
      ]
     },
     "execution_count": 18,
     "metadata": {},
     "output_type": "execute_result"
    },
    {
     "data": {
      "image/png": "[encoded data removed]",
      "text/plain": [
       "<Figure size 432x288 with 1 Axes>"
      ]
     },
     "metadata": {
      "needs_background": "light"
     },
     "output_type": "display_data"
    }
   ],
   "source": [
    "energy_nf.plot.bar(x='drink 16oz', y='sugar amount in g')\n",
    "ax = matplotlib.pyplot.gca()\n",
    "ax.set_ylim([0,80])"
   ]
  },
  {
   "cell_type": "code",
   "execution_count": 19,
   "id": "4b3ebb15",
   "metadata": {
    "scrolled": false
   },
   "outputs": [
    {
     "data": {
      "text/plain": [
       "(0.0, 310.0)"
      ]
     },
     "execution_count": 19,
     "metadata": {},
     "output_type": "execute_result"
    },
    {
     "data": {
      "image/png": "[encoded data removed]",
      "text/plain": [
       "<Figure size 432x288 with 1 Axes>"
      ]
     },
     "metadata": {
      "needs_background": "light"
     },
     "output_type": "display_data"
    }
   ],
   "source": [
    "energy_nf.plot.bar(x='drink 16oz', y='caffeine in mg')\n",
    "ax = matplotlib.pyplot.gca()\n",
    "\n",
    "#caffeine axis limit\n",
    "ax.set_ylim([0,310])"
   ]
  },
  {
   "cell_type": "markdown",
   "id": "8c95dd6f",
   "metadata": {},
   "source": [
    "# Chapter 2 "
   ]
  },
  {
   "cell_type": "code",
   "execution_count": 20,
   "id": "a3dae82a",
   "metadata": {},
   "outputs": [],
   "source": [
    "#calling an API\n",
    "import requests"
   ]
  },
  {
   "cell_type": "code",
   "execution_count": 21,
   "id": "c1d96a53",
   "metadata": {},
   "outputs": [],
   "source": [
    "#verification\n",
    "payload = {\"x-app-id\": \"\", \"x-app-key\": \"\"}"
   ]
  },
  {
   "cell_type": "code",
   "execution_count": 22,
   "id": "0ebfce4e",
   "metadata": {},
   "outputs": [],
   "source": [
    "r = requests.get(\"https://trackapi.nutritionix.com/v2/search/instant?query=body armor\", headers=payload)"
   ]
  },
  {
   "cell_type": "code",
   "execution_count": 23,
   "id": "e29ad408",
   "metadata": {},
   "outputs": [
    {
     "data": {
      "text/plain": [
       "<Response [401]>"
      ]
     },
     "execution_count": 23,
     "metadata": {},
     "output_type": "execute_result"
    }
   ],
   "source": [
    "r"
   ]
  },
  {
   "cell_type": "code",
   "execution_count": 24,
   "id": "4de616fc",
   "metadata": {},
   "outputs": [],
   "source": [
    "json=r.json()"
   ]
  },
  {
   "cell_type": "code",
   "execution_count": 25,
   "id": "f80ca64c",
   "metadata": {
    "scrolled": true
   },
   "outputs": [
    {
     "data": {
      "text/plain": [
       "{'message': 'unauthorized', 'id': '4d0fb1d3-c37e-44ab-89de-edf1e9add256'}"
      ]
     },
     "execution_count": 25,
     "metadata": {},
     "output_type": "execute_result"
    }
   ],
   "source": [
    "#all data\n",
    "json"
   ]
  },
  {
   "cell_type": "code",
   "execution_count": 26,
   "id": "e7bd8185",
   "metadata": {},
   "outputs": [
    {
     "data": {
      "text/plain": [
       "dict_keys(['message', 'id'])"
      ]
     },
     "execution_count": 26,
     "metadata": {},
     "output_type": "execute_result"
    }
   ],
   "source": [
    "#A list of every key in a dictionary\n",
    "json.keys()"
   ]
  },
  {
   "cell_type": "code",
   "execution_count": 27,
   "id": "c6d0ffb4",
   "metadata": {},
   "outputs": [
    {
     "ename": "KeyError",
     "evalue": "'branded'",
     "output_type": "error",
     "traceback": [
      "\u001b[1;31m---------------------------------------------------------------------------\u001b[0m",
      "\u001b[1;31mKeyError\u001b[0m                                  Traceback (most recent call last)",
      "\u001b[1;32m<ipython-input-27-7971cdcdbf98>\u001b[0m in \u001b[0;36m<module>\u001b[1;34m\u001b[0m\n\u001b[0;32m      1\u001b[0m \u001b[1;31m#I'm intrested in branded\u001b[0m\u001b[1;33m\u001b[0m\u001b[1;33m\u001b[0m\u001b[1;33m\u001b[0m\u001b[0m\n\u001b[1;32m----> 2\u001b[1;33m \u001b[0mjson\u001b[0m\u001b[1;33m[\u001b[0m\u001b[1;34m'branded'\u001b[0m\u001b[1;33m]\u001b[0m\u001b[1;33m\u001b[0m\u001b[1;33m\u001b[0m\u001b[0m\n\u001b[0m",
      "\u001b[1;31mKeyError\u001b[0m: 'branded'"
     ]
    }
   ],
   "source": [
    "#I'm intrested in branded\n",
    "json['branded']"
   ]
  },
  {
   "cell_type": "code",
   "execution_count": null,
   "id": "0767a1a5",
   "metadata": {},
   "outputs": [],
   "source": [
    "#branded and common are list \n",
    "type(json['branded'])"
   ]
  },
  {
   "cell_type": "code",
   "execution_count": null,
   "id": "5284b208",
   "metadata": {},
   "outputs": [],
   "source": [
    "#They're dictionaries inside two list\n",
    "type(json['branded'][0])"
   ]
  },
  {
   "cell_type": "code",
   "execution_count": null,
   "id": "6780b8a8",
   "metadata": {},
   "outputs": [],
   "source": [
    "#creating a Dataframe named 'bodyarmor'\n",
    "bodyarmor = pd.DataFrame(json['branded'])"
   ]
  },
  {
   "cell_type": "code",
   "execution_count": null,
   "id": "01c8df26",
   "metadata": {},
   "outputs": [],
   "source": [
    "bodyarmor"
   ]
  },
  {
   "cell_type": "code",
   "execution_count": null,
   "id": "6f7a2b5c",
   "metadata": {},
   "outputs": [],
   "source": [
    "#removing unnecessary index and columns\n",
    "bodyarmor.drop(index=[1,8,16,18,19], columns=['serving_unit', 'nix_brand_id', 'brand_name_item_name', 'serving_qty', 'photo', 'brand_name', 'region', 'brand_type', 'nix_item_id', 'locale'], inplace=True)"
   ]
  },
  {
   "cell_type": "markdown",
   "id": "93ab2602",
   "metadata": {},
   "source": [
    "## Bodyarmor"
   ]
  },
  {
   "cell_type": "code",
   "execution_count": null,
   "id": "56d05310",
   "metadata": {},
   "outputs": [],
   "source": [
    "bodyarmor"
   ]
  },
  {
   "cell_type": "code",
   "execution_count": null,
   "id": "32ea8cc7",
   "metadata": {},
   "outputs": [],
   "source": [
    "bodyarmor.plot.barh('food_name', 'nf_calories', color=\"#444444\")\n",
    "matplotlib.pyplot.ylabel(\"drink\")\n",
    "matplotlib.pyplot.xlabel(\"calories\")"
   ]
  },
  {
   "cell_type": "code",
   "execution_count": null,
   "id": "1a7a9042",
   "metadata": {},
   "outputs": [],
   "source": [
    "energy_nf.plot.barh('drink 16oz', 'calories')"
   ]
  },
  {
   "cell_type": "code",
   "execution_count": null,
   "id": "b14ba9e9",
   "metadata": {},
   "outputs": [],
   "source": [
    "#Next step is to merge energy_nf and bodyarmor to compare calories"
   ]
  },
  {
   "cell_type": "markdown",
   "id": "f0ebb77b",
   "metadata": {},
   "source": [
    "## Pre Merge"
   ]
  },
  {
   "cell_type": "code",
   "execution_count": null,
   "id": "0f832ef5",
   "metadata": {},
   "outputs": [],
   "source": [
    "energy_nf"
   ]
  },
  {
   "cell_type": "code",
   "execution_count": null,
   "id": "af335aa3",
   "metadata": {},
   "outputs": [],
   "source": [
    "bodyarmor"
   ]
  },
  {
   "cell_type": "code",
   "execution_count": null,
   "id": "8f582b6c",
   "metadata": {},
   "outputs": [],
   "source": [
    "#droping unnecessary columns\n",
    "energy_nf.drop(columns=['sugar amount in g', 'caffeine in mg', 'sodium in mg'], inplace=True)"
   ]
  },
  {
   "cell_type": "code",
   "execution_count": null,
   "id": "eaee9fe1",
   "metadata": {},
   "outputs": [],
   "source": [
    "#renames colmns in bodyarmor\n",
    "bodyarmor.columns = ['drink 16oz', 'calories']\n",
    "bodyarmor.columns"
   ]
  },
  {
   "cell_type": "code",
   "execution_count": null,
   "id": "2a6ebbe8",
   "metadata": {},
   "outputs": [],
   "source": [
    "energy_nf"
   ]
  },
  {
   "cell_type": "code",
   "execution_count": null,
   "id": "80152651",
   "metadata": {},
   "outputs": [],
   "source": [
    "bodyarmor"
   ]
  },
  {
   "cell_type": "markdown",
   "id": "73bd3abc",
   "metadata": {},
   "source": [
    "## The merge"
   ]
  },
  {
   "cell_type": "code",
   "execution_count": null,
   "id": "9a85da02",
   "metadata": {},
   "outputs": [],
   "source": [
    "allcalories = [bodyarmor, energy_nf]"
   ]
  },
  {
   "cell_type": "code",
   "execution_count": null,
   "id": "4558ca98",
   "metadata": {},
   "outputs": [],
   "source": [
    "result = pd.concat(allcalories)"
   ]
  },
  {
   "cell_type": "code",
   "execution_count": null,
   "id": "29daa45d",
   "metadata": {},
   "outputs": [],
   "source": [
    "result"
   ]
  },
  {
   "cell_type": "code",
   "execution_count": null,
   "id": "3fa9f734",
   "metadata": {},
   "outputs": [],
   "source": [
    "result.plot.barh('drink 16oz', 'calories', color=\"#444444\")"
   ]
  },
  {
   "cell_type": "markdown",
   "id": "5ebded3d",
   "metadata": {},
   "source": [
    "# This concludes my first data project, thank you for reading. Hopefully you learned something new today. - carlos s"
   ]
  },
  {
   "cell_type": "code",
   "execution_count": null,
   "id": "2d08391f",
   "metadata": {},
   "outputs": [],
   "source": []
  }
 ],
 "metadata": {
  "kernelspec": {
   "display_name": "Python 3",
   "language": "python",
   "name": "python3"
  },
  "language_info": {
   "codemirror_mode": {
    "name": "ipython",
    "version": 3
   },
   "file_extension": ".py",
   "mimetype": "text/x-python",
   "name": "python",
   "nbconvert_exporter": "python",
   "pygments_lexer": "ipython3",
   "version": "3.8.8"
  }
 },
 "nbformat": 4,
 "nbformat_minor": 5
}
